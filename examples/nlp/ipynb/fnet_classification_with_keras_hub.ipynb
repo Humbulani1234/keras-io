{
 "cells": [
  {
   "cell_type": "markdown",
   "metadata": {
    "colab_type": "text"
   },
   "source": [
    "# Text Classification using FNet\n",
    "\n",
    "**Author:** [Abheesht Sharma](https://github.com/abheesht17/)<br>\n",
    "**Date created:** 2022/06/01<br>\n",
    "**Last modified:** 2025/01/06<br>\n",
    "**Description:** Text Classification on the IMDb Dataset using `keras_hub.layers.FNetEncoder` layer."
   ]
  },
  {
   "cell_type": "markdown",
   "metadata": {
    "colab_type": "text"
   },
   "source": [
    "## Introduction\n",
    "\n",
    "In this example, we will demonstrate the ability of FNet to achieve comparable\n",
    "results with a vanilla Transformer model on the text classification task.\n",
    "We will be using the IMDb dataset, which is a\n",
    "collection of movie reviews labelled either positive or negative (sentiment\n",
    "analysis).\n",
    "\n",
    "To build the tokenizer, model, etc., we will use components from\n",
    "[KerasHub](https://github.com/keras-team/keras-hub). KerasHub makes life easier\n",
    "for people who want to build NLP pipelines! :)\n",
    "\n",
    "### Model\n",
    "\n",
    "Transformer-based language models (LMs) such as BERT, RoBERTa, XLNet, etc. have\n",
    "demonstrated the effectiveness of the self-attention mechanism for computing\n",
    "rich embeddings for input text. However, the self-attention mechanism is an\n",
    "expensive operation, with a time complexity of `O(n^2)`, where `n` is the number\n",
    "of tokens in the input. Hence, there has been an effort to reduce the time\n",
    "complexity of the self-attention mechanism and improve performance without\n",
    "sacrificing the quality of results.\n",
    "\n",
    "In 2020, a paper titled\n",
    "[FNet: Mixing Tokens with Fourier Transforms](https://arxiv.org/abs/2105.03824)\n",
    "replaced the self-attention layer in BERT with a simple Fourier Transform layer\n",
    "for \"token mixing\". This resulted in comparable accuracy and a speed-up during\n",
    "training. In particular, a couple of points from the paper stand out:\n",
    "\n",
    "* The authors claim that FNet is 80% faster than BERT on GPUs and 70% faster on\n",
    "TPUs. The reason for this speed-up is two-fold: a) the Fourier Transform layer\n",
    "is unparametrized, it does not have any parameters, and b) the authors use Fast\n",
    "Fourier Transform (FFT); this reduces the time complexity from `O(n^2)`\n",
    "(in the case of self-attention) to `O(n log n)`.\n",
    "* FNet manages to achieve 92-97% of the accuracy of BERT on the GLUE benchmark."
   ]
  },
  {
   "cell_type": "markdown",
   "metadata": {
    "colab_type": "text"
   },
   "source": [
    "## Setup\n",
    "\n",
    "Before we start with the implementation, let's import all the necessary packages."
   ]
  },
  {
   "cell_type": "code",
   "execution_count": 0,
   "metadata": {
    "colab_type": "code"
   },
   "outputs": [],
   "source": [
    "!pip install -q --upgrade keras-hub\n",
    "!pip install -q --upgrade keras  # Upgrade to Keras 3."
   ]
  },
  {
   "cell_type": "code",
   "execution_count": 0,
   "metadata": {
    "colab_type": "code"
   },
   "outputs": [],
   "source": [
    "import os\n",
    "from sklearn.model_selection import train_test_split\n",
    "import pandas as pd\n",
    "import numpy as np\n",
    "import random\n",
    "import math\n",
    "\n",
    "os.environ[\"KERAS_BACKEND\"] = \"torch\"  # or jax, or tensorflow\n",
    "\n",
    "import keras_hub\n",
    "import keras\n",
    "\n",
    "keras.utils.set_random_seed(42)"
   ]
  },
  {
   "cell_type": "markdown",
   "metadata": {
    "colab_type": "text"
   },
   "source": [
    "Let's also define our hyperparameters."
   ]
  },
  {
   "cell_type": "code",
   "execution_count": 0,
   "metadata": {
    "colab_type": "code"
   },
   "outputs": [],
   "source": [
    "BATCH_SIZE = 64\n",
    "EPOCHS = 1  # maybe adjusted as desired\n",
    "MAX_SEQUENCE_LENGTH = 512\n",
    "VOCAB_SIZE = 15000\n",
    "\n",
    "EMBED_DIM = 128\n",
    "INTERMEDIATE_DIM = 512"
   ]
  },
  {
   "cell_type": "markdown",
   "metadata": {
    "colab_type": "text"
   },
   "source": [
    "## Loading the dataset\n",
    "\n",
    "First, let's download the IMDB dataset and extract it."
   ]
  },
  {
   "cell_type": "code",
   "execution_count": 0,
   "metadata": {
    "colab_type": "code"
   },
   "outputs": [],
   "source": [
    "!wget http://ai.stanford.edu/~amaas/data/sentiment/aclImdb_v1.tar.gz\n",
    "!tar -xzf aclImdb_v1.tar.gz"
   ]
  },
  {
   "cell_type": "markdown",
   "metadata": {
    "colab_type": "text"
   },
   "source": [
    "Samples are present in the form of text files. Let's inspect the structure of\n",
    "the directory."
   ]
  },
  {
   "cell_type": "code",
   "execution_count": 0,
   "metadata": {
    "colab_type": "code"
   },
   "outputs": [],
   "source": [
    "print(os.listdir(\"./aclImdb\"))\n",
    "print(os.listdir(\"./aclImdb/train\"))\n",
    "print(os.listdir(\"./aclImdb/test\"))"
   ]
  },
  {
   "cell_type": "markdown",
   "metadata": {
    "colab_type": "text"
   },
   "source": [
    "The directory contains two sub-directories: `train` and `test`. Each subdirectory\n",
    "in turn contains two folders: `pos` and `neg` for positive and negative reviews,\n",
    "respectively. Before we load the dataset, let's delete the `./aclImdb/train/unsup`\n",
    "folder since it has unlabelled samples."
   ]
  },
  {
   "cell_type": "code",
   "execution_count": 0,
   "metadata": {
    "colab_type": "code"
   },
   "outputs": [],
   "source": [
    "!rm -rf aclImdb/train/unsup"
   ]
  },
  {
   "cell_type": "markdown",
   "metadata": {
    "colab_type": "text"
   },
   "source": [
    "We'll use Pandas to avoid dependency on `keras.utils.text_dataset_from_directory`\n",
    "since it is merely a wrapper that returns `tf.data.Dataset` and we wish to make\n",
    "this script backend-agnostic"
   ]
  },
  {
   "cell_type": "code",
   "execution_count": 0,
   "metadata": {
    "colab_type": "code"
   },
   "outputs": [],
   "source": [
    "\n",
    "# Function to read files and label them\n",
    "def load_data_from_directory(directory, label):\n",
    "    data = []\n",
    "    for filename in os.listdir(directory):\n",
    "        if filename.endswith(\".txt\"):\n",
    "            file_path = os.path.join(directory, filename)\n",
    "            with open(file_path, \"r\", encoding=\"utf-8\") as file:\n",
    "                text = file.read().strip()\n",
    "                data.append((text, label))\n",
    "    return data\n",
    "\n",
    "\n",
    "# Function to create Pandas dataframes\n",
    "def create_df(directory_pos, directory_neg):\n",
    "\n",
    "    # Load data from both directories\n",
    "    pos_data = load_data_from_directory(directory_pos, label=1)\n",
    "    neg_data = load_data_from_directory(directory_neg, label=0)\n",
    "\n",
    "    # Combine data from both pos and neg\n",
    "    all_data = pos_data + neg_data\n",
    "\n",
    "    # Shuffle the data randomly\n",
    "    random.shuffle(all_data)\n",
    "\n",
    "    # Create a pandas DataFrame\n",
    "    df = pd.DataFrame(all_data, columns=[\"text\", \"label\"])\n",
    "    return df\n",
    "\n",
    "\n",
    "# Create the train and test dataframes, iloc maybe adjusted to a desired size\n",
    "train_df = create_df(\"./aclImdb/train/pos\", \"./aclImdb/train/neg\").iloc[0:5000]\n",
    "test_df = create_df(\"./aclImdb/test/pos\", \"./aclImdb/test/neg\").iloc[0:2500]\n",
    "\n",
    "# Train and Validation splits, 5% for validation\n",
    "train_df, val_df = train_test_split(\n",
    "    train_df, test_size=0.05, stratify=train_df[\"label\"].values, random_state=42\n",
    ")\n",
    "\n",
    "# Data statistics\n",
    "print(f\"Total training examples: {len(train_df)}\")\n",
    "print(f\"Total validation examples: {len(val_df)}\")\n",
    "print(f\"Total test examples: {len(test_df)}\")"
   ]
  },
  {
   "cell_type": "markdown",
   "metadata": {
    "colab_type": "text"
   },
   "source": [
    "Let's print a few samples."
   ]
  },
  {
   "cell_type": "code",
   "execution_count": 0,
   "metadata": {
    "colab_type": "code"
   },
   "outputs": [],
   "source": [
    "for i in range(3):\n",
    "    print(f\"text: {train_df['text'][i]}, label: {train_df['label'][i]}\")"
   ]
  },
  {
   "cell_type": "markdown",
   "metadata": {
    "colab_type": "text"
   },
   "source": [
    "### Tokenizing the data\n",
    "\n",
    "We'll be using the `keras_hub.tokenizers.WordPieceTokenizer` layer to tokenize\n",
    "the text. `keras_hub.tokenizers.WordPieceTokenizer` takes a WordPiece vocabulary\n",
    "and has functions for tokenizing the text, and detokenizing sequences of tokens.\n",
    "\n",
    "Before we define the tokenizer, we first need to train it on the dataset\n",
    "we have. The WordPiece tokenization algorithm is a subword tokenization algorithm;\n",
    "training it on a corpus gives us a vocabulary of subwords. A subword tokenizer\n",
    "is a compromise between word tokenizers (word tokenizers need very large\n",
    "vocabularies for good coverage of input words), and character tokenizers\n",
    "(characters don't really encode meaning like words do). Luckily, KerasHub\n",
    "makes it very simple to train WordPiece on a corpus with the\n",
    "`keras_hub.tokenizers.compute_word_piece_vocabulary` utility.\n",
    "\n",
    "Note: The official implementation of FNet uses the SentencePiece Tokenizer."
   ]
  },
  {
   "cell_type": "markdown",
   "metadata": {
    "colab_type": "text"
   },
   "source": [
    "Every vocabulary has a few special, reserved tokens. We have two such tokens:\n",
    "\n",
    "- `\"[PAD]\"` - Padding token. Padding tokens are appended to the input sequence length\n",
    "when the input sequence length is shorter than the maximum sequence length.\n",
    "- `\"[UNK]\"` - Unknown token."
   ]
  },
  {
   "cell_type": "code",
   "execution_count": 0,
   "metadata": {
    "colab_type": "code"
   },
   "outputs": [],
   "source": [
    "reserved_tokens = [\"[PAD]\", \"[UNK]\"]\n",
    "train_sentences = [element[0] for element in train_df]\n",
    "\n",
    "vocab = keras_hub.tokenizers.compute_word_piece_vocabulary(\n",
    "    data=[\n",
    "        \"./aclImdb/train/pos/\" + f\n",
    "        for f in os.listdir(\"./aclImdb/train/pos\")\n",
    "        if os.path.isfile(os.path.join(\"./aclImdb/train/pos\", f))\n",
    "    ],  # list of files in the specified directory used to create the vocab\n",
    "    vocabulary_size=VOCAB_SIZE,\n",
    "    reserved_tokens=reserved_tokens,\n",
    "    lowercase=True,\n",
    ")\n",
    ""
   ]
  },
  {
   "cell_type": "markdown",
   "metadata": {
    "colab_type": "text"
   },
   "source": [
    "Let's see some tokens!"
   ]
  },
  {
   "cell_type": "code",
   "execution_count": 0,
   "metadata": {
    "colab_type": "code"
   },
   "outputs": [],
   "source": [
    "print(\"Tokens: \", vocab[100:110])"
   ]
  },
  {
   "cell_type": "markdown",
   "metadata": {
    "colab_type": "text"
   },
   "source": [
    "Now, let's define the tokenizer. We will configure the tokenizer with the\n",
    "the vocabularies trained above. We will define a maximum sequence length so that\n",
    "all sequences are padded to the same length, if the length of the sequence is\n",
    "less than the specified sequence length. Otherwise, the sequence is truncated."
   ]
  },
  {
   "cell_type": "code",
   "execution_count": 0,
   "metadata": {
    "colab_type": "code"
   },
   "outputs": [],
   "source": [
    "tokenizer = keras_hub.tokenizers.WordPieceTokenizer(\n",
    "    vocabulary=vocab,\n",
    "    lowercase=False,\n",
    "    sequence_length=MAX_SEQUENCE_LENGTH,\n",
    ")\n",
    ""
   ]
  },
  {
   "cell_type": "markdown",
   "metadata": {
    "colab_type": "text"
   },
   "source": [
    "Let's try and tokenize a sample from our dataset! To verify whether the text has\n",
    "been tokenized correctly, we can also detokenize the list of tokens back to the\n",
    "original text."
   ]
  },
  {
   "cell_type": "code",
   "execution_count": 0,
   "metadata": {
    "colab_type": "code"
   },
   "outputs": [],
   "source": [
    "input_sentence_ex = train_df[\"text\"][0]\n",
    "input_tokens_ex = tokenizer(input_sentence_ex)\n",
    "\n",
    "print(\"Sentence: \", input_sentence_ex)\n",
    "print(\"Tokens: \", input_tokens_ex)\n",
    "print(\"Recovered text after detokenizing: \", tokenizer.detokenize(input_tokens_ex))\n",
    ""
   ]
  },
  {
   "cell_type": "markdown",
   "metadata": {
    "colab_type": "text"
   },
   "source": [
    "Create the final datasets, method adapted from `PyDataset` doc string"
   ]
  },
  {
   "cell_type": "code",
   "execution_count": 0,
   "metadata": {
    "colab_type": "code"
   },
   "outputs": [],
   "source": [
    "\n",
    "class UnifiedPyDataset(keras.utils.PyDataset):\n",
    "    \"\"\"A Keras-compatible dataset that processes a DataFrame for TensorFlow, JAX, and PyTorch.\"\"\"\n",
    "\n",
    "    def __init__(\n",
    "        self,\n",
    "        df,\n",
    "        batch_size=BATCH_SIZE,\n",
    "        workers=4,\n",
    "        use_multiprocessing=True,\n",
    "        max_queue_size=10,\n",
    "        **kwargs,\n",
    "    ):\n",
    "        \"\"\"\n",
    "        Args:\n",
    "            df: pandas DataFrame with data\n",
    "            batch_size: Batch size for dataset\n",
    "            workers: Number of workers to use for parallel loading (Keras)\n",
    "            use_multiprocessing: Whether to use multiprocessing\n",
    "            max_queue_size: Maximum size of the data queue for parallel loading\n",
    "        \"\"\"\n",
    "        super().__init__(**kwargs)\n",
    "        self.dataframe = df\n",
    "        columns = [\"text\", \"label\"]\n",
    "\n",
    "        # text files\n",
    "        self.text_x = self.dataframe[\"text\"]\n",
    "        self.text_y = self.dataframe[\"label\"]\n",
    "\n",
    "        # general\n",
    "        self.batch_size = batch_size\n",
    "        self.workers = workers\n",
    "        self.use_multiprocessing = use_multiprocessing\n",
    "        self.max_queue_size = max_queue_size\n",
    "\n",
    "    def __getitem__(self, index):\n",
    "        \"\"\"\n",
    "        Fetches a batch of data from the dataset at the given index.\n",
    "\n",
    "        Args:\n",
    "            index: position of the batch in the dataset\n",
    "        \"\"\"\n",
    "\n",
    "        # Return x, y for batch idx.\n",
    "        low = index * self.batch_size\n",
    "        # Cap upper bound at array length; the last batch may be smaller\n",
    "        # if the total number of items is not a multiple of batch size.\n",
    "\n",
    "        high_text = min(low + self.batch_size, len(self.text_x))\n",
    "\n",
    "        # text files batches\n",
    "        batch_text_x = self.text_x[low:high_text]\n",
    "        batch_text_y = self.text_y[low:high_text]\n",
    "\n",
    "        # Tokenize the data in dataframe and stack them into an nd.array of axis_0=batch\n",
    "        text = np.array([[tokenizer(text) for text in batch_text_x]])\n",
    "        return (\n",
    "            {\n",
    "                \"input_ids\": keras.ops.squeeze(text),\n",
    "            },\n",
    "            # Target lables\n",
    "            np.array(batch_text_y),\n",
    "        )\n",
    "\n",
    "    def __len__(self):\n",
    "        \"\"\"\n",
    "        Returns the number of batches in the dataset.\n",
    "        \"\"\"\n",
    "        return math.ceil(len(self.dataframe) / self.batch_size)\n",
    "\n",
    "\n",
    "def prepare_dataset(dataframe, training=True):\n",
    "    ds = UnifiedPyDataset(\n",
    "        dataframe,\n",
    "        batch_size=32,\n",
    "        workers=4,\n",
    "    )\n",
    "    return ds\n",
    "\n",
    "\n",
    "train_ds = prepare_dataset(train_df)\n",
    "val_ds = prepare_dataset(val_df)\n",
    "test_ds = prepare_dataset(test_df)"
   ]
  },
  {
   "cell_type": "markdown",
   "metadata": {
    "colab_type": "text"
   },
   "source": [
    "## Building the model\n",
    "\n",
    "Now, let's move on to the exciting part - defining our model!\n",
    "We first need an embedding layer, i.e., a layer that maps every token in the input\n",
    "sequence to a vector. This embedding layer can be initialised randomly. We also\n",
    "need a positional embedding layer which encodes the word order in the sequence.\n",
    "The convention is to add, i.e., sum, these two embeddings. KerasHub has a\n",
    "`keras_hub.layers.TokenAndPositionEmbedding ` layer which does all of the above\n",
    "steps for us.\n",
    "\n",
    "Our FNet classification model consists of three `keras_hub.layers.FNetEncoder`\n",
    "layers with a `keras.layers.Dense` layer on top.\n",
    "\n",
    "Note: For FNet, masking the padding tokens has a minimal effect on results. In the\n",
    "official implementation, the padding tokens are not masked."
   ]
  },
  {
   "cell_type": "code",
   "execution_count": 0,
   "metadata": {
    "colab_type": "code"
   },
   "outputs": [],
   "source": [
    "input_ids = keras.Input(shape=(None,), dtype=\"int64\", name=\"input_ids\")\n",
    "\n",
    "x = keras_hub.layers.TokenAndPositionEmbedding(\n",
    "    vocabulary_size=VOCAB_SIZE,\n",
    "    sequence_length=MAX_SEQUENCE_LENGTH,\n",
    "    embedding_dim=EMBED_DIM,\n",
    "    mask_zero=True,\n",
    ")(input_ids)\n",
    "\n",
    "x = keras_hub.layers.FNetEncoder(intermediate_dim=INTERMEDIATE_DIM)(inputs=x)\n",
    "x = keras_hub.layers.FNetEncoder(intermediate_dim=INTERMEDIATE_DIM)(inputs=x)\n",
    "x = keras_hub.layers.FNetEncoder(intermediate_dim=INTERMEDIATE_DIM)(inputs=x)\n",
    "\n",
    "\n",
    "x = keras.layers.GlobalAveragePooling1D()(x)\n",
    "x = keras.layers.Dropout(0.1)(x)\n",
    "outputs = keras.layers.Dense(1, activation=\"sigmoid\")(x)\n",
    "\n",
    "fnet_classifier = keras.Model(input_ids, outputs, name=\"fnet_classifier\")"
   ]
  },
  {
   "cell_type": "markdown",
   "metadata": {
    "colab_type": "text"
   },
   "source": [
    "## Training our model\n",
    "\n",
    "We'll use accuracy to monitor training progress on the validation data. Let's\n",
    "train our model for 3 epochs."
   ]
  },
  {
   "cell_type": "code",
   "execution_count": 0,
   "metadata": {
    "colab_type": "code"
   },
   "outputs": [],
   "source": [
    "fnet_classifier.summary()\n",
    "fnet_classifier.compile(\n",
    "    optimizer=keras.optimizers.Adam(learning_rate=0.001),\n",
    "    loss=\"binary_crossentropy\",\n",
    "    metrics=[\"accuracy\"],\n",
    ")\n",
    "fnet_classifier.fit(train_ds, epochs=EPOCHS, validation_data=val_ds)"
   ]
  },
  {
   "cell_type": "markdown",
   "metadata": {
    "colab_type": "text"
   },
   "source": [
    "We obtain a train accuracy of around 92% and a validation accuracy of around\n",
    "85%. Moreover, for 3 epochs, it takes around 86 seconds to train the model\n",
    "(on Colab with a 16 GB Tesla T4 GPU).\n",
    "\n",
    "Let's calculate the test accuracy."
   ]
  },
  {
   "cell_type": "code",
   "execution_count": 0,
   "metadata": {
    "colab_type": "code"
   },
   "outputs": [],
   "source": [
    "fnet_classifier.evaluate(test_ds, batch_size=BATCH_SIZE)\n",
    ""
   ]
  },
  {
   "cell_type": "markdown",
   "metadata": {
    "colab_type": "text"
   },
   "source": [
    "## Comparison with Transformer model\n",
    "\n",
    "Let's compare our FNet Classifier model with a Transformer Classifier model. We\n",
    "keep all the parameters/hyperparameters the same. For example, we use three\n",
    "`TransformerEncoder` layers.\n",
    "\n",
    "We set the number of heads to 2."
   ]
  },
  {
   "cell_type": "code",
   "execution_count": 0,
   "metadata": {
    "colab_type": "code"
   },
   "outputs": [],
   "source": [
    "NUM_HEADS = 2\n",
    "input_ids = keras.Input(shape=(None,), dtype=\"int64\", name=\"input_ids\")\n",
    "\n",
    "\n",
    "x = keras_hub.layers.TokenAndPositionEmbedding(\n",
    "    vocabulary_size=VOCAB_SIZE,\n",
    "    sequence_length=MAX_SEQUENCE_LENGTH,\n",
    "    embedding_dim=EMBED_DIM,\n",
    "    mask_zero=True,\n",
    ")(input_ids)\n",
    "\n",
    "x = keras_hub.layers.TransformerEncoder(\n",
    "    intermediate_dim=INTERMEDIATE_DIM, num_heads=NUM_HEADS\n",
    ")(inputs=x)\n",
    "x = keras_hub.layers.TransformerEncoder(\n",
    "    intermediate_dim=INTERMEDIATE_DIM, num_heads=NUM_HEADS\n",
    ")(inputs=x)\n",
    "x = keras_hub.layers.TransformerEncoder(\n",
    "    intermediate_dim=INTERMEDIATE_DIM, num_heads=NUM_HEADS\n",
    ")(inputs=x)\n",
    "\n",
    "\n",
    "x = keras.layers.GlobalAveragePooling1D()(x)\n",
    "x = keras.layers.Dropout(0.1)(x)\n",
    "outputs = keras.layers.Dense(1, activation=\"sigmoid\")(x)\n",
    "\n",
    "transformer_classifier = keras.Model(input_ids, outputs, name=\"transformer_classifier\")\n",
    "\n",
    "\n",
    "transformer_classifier.summary()\n",
    "transformer_classifier.compile(\n",
    "    optimizer=keras.optimizers.Adam(learning_rate=0.001),\n",
    "    loss=\"binary_crossentropy\",\n",
    "    metrics=[\"accuracy\"],\n",
    ")\n",
    "transformer_classifier.fit(train_ds, epochs=EPOCHS, validation_data=val_ds)"
   ]
  },
  {
   "cell_type": "markdown",
   "metadata": {
    "colab_type": "text"
   },
   "source": [
    "We obtain a train accuracy of around 94% and a validation accuracy of around\n",
    "86.5%. It takes around 146 seconds to train the model (on Colab with a 16 GB Tesla\n",
    "T4 GPU).\n",
    "\n",
    "Let's calculate the test accuracy."
   ]
  },
  {
   "cell_type": "code",
   "execution_count": 0,
   "metadata": {
    "colab_type": "code"
   },
   "outputs": [],
   "source": [
    "transformer_classifier.evaluate(test_ds, batch_size=BATCH_SIZE)"
   ]
  },
  {
   "cell_type": "markdown",
   "metadata": {
    "colab_type": "text"
   },
   "source": [
    "Let's make a table and compare the two models. We can see that FNet\n",
    "significantly speeds up our run time (1.7x), with only a small sacrifice in\n",
    "overall accuracy (drop of 0.75%).\n",
    "\n",
    "|                         | **FNet Classifier** | **Transformer Classifier** |\n",
    "|:-----------------------:|:-------------------:|:--------------------------:|\n",
    "|    **Training Time**    |      86 seconds     |         146 seconds        |\n",
    "|    **Train Accuracy**   |        92.34%       |           93.85%           |\n",
    "| **Validation Accuracy** |        85.21%       |           86.42%           |\n",
    "|    **Test Accuracy**    |        83.94%       |           84.69%           |\n",
    "|       **#Params**       |      2,321,921      |          2,520,065         |"
   ]
  }
 ],
 "metadata": {
  "accelerator": "GPU",
  "colab": {
   "collapsed_sections": [],
   "name": "fnet_classification_with_keras_hub",
   "private_outputs": false,
   "provenance": [],
   "toc_visible": true
  },
  "kernelspec": {
   "display_name": "Python 3",
   "language": "python",
   "name": "python3"
  },
  "language_info": {
   "codemirror_mode": {
    "name": "ipython",
    "version": 3
   },
   "file_extension": ".py",
   "mimetype": "text/x-python",
   "name": "python",
   "nbconvert_exporter": "python",
   "pygments_lexer": "ipython3",
   "version": "3.7.0"
  }
 },
 "nbformat": 4,
 "nbformat_minor": 0
}